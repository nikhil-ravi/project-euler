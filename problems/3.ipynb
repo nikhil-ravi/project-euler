{
 "cells": [
  {
   "cell_type": "markdown",
   "id": "5592309c",
   "metadata": {},
   "source": [
    "\n",
    "---\n",
    "title: Largest Prime Factor\n",
    "problem: 3\n",
    "---\n"
   ]
  },
  {
   "cell_type": "markdown",
   "id": "0535cd68",
   "metadata": {},
   "source": [
    "Largest Prime Factor\n",
    "--------------------\n",
    "\n",
    "\n",
    "The prime factors of $13195$ are $5, 7, 13$ and $29$.\n",
    "\n",
    "\n",
    "What is the largest prime factor of the number $600851475143$?\n",
    "\n",
    "\n"
   ]
  },
  {
   "cell_type": "markdown",
   "id": "c748a68f",
   "metadata": {},
   "source": [
    "## Solution\n",
    "\n",
    "Start with the smallest prime factor, $2$, and divide the number by it until it is no longer divisible. Then move on to the next candidate factor, $3$, and repeat. Continue until the number is $1$. Note that if a candidate is a factor, it must be prime, since any composite factor would have smaller prime factors that would have already been found.\n",
    "\n",
    "Another level of optimization is to only check factors up to the square root of the number, since any factor larger than that would have a corresponding factor smaller than that, and we would have already found it."
   ]
  },
  {
   "cell_type": "code",
   "execution_count": 11,
   "id": "e91fa7a2",
   "metadata": {},
   "outputs": [],
   "source": [
    "def largest_prime_factor(number):\n",
    "    i = 2\n",
    "    while number > 1:\n",
    "        if number % i == 0:\n",
    "            number /= i\n",
    "        elif i * i > number:\n",
    "            i = number\n",
    "        else:\n",
    "            i += 1\n",
    "    return int(i)"
   ]
  },
  {
   "cell_type": "code",
   "execution_count": 13,
   "id": "d5e82224",
   "metadata": {},
   "outputs": [
    {
     "name": "stdout",
     "output_type": "stream",
     "text": [
      "The largest prime factor of 600851475143 is 6857\n"
     ]
    }
   ],
   "source": [
    "print(f\"The largest prime factor of 600851475143 is {largest_prime_factor(600851475143)}\")"
   ]
  }
 ],
 "metadata": {
  "kernelspec": {
   "display_name": "project-euler-rsKRxCfP-py3.11",
   "language": "python",
   "name": "python3"
  },
  "language_info": {
   "codemirror_mode": {
    "name": "ipython",
    "version": 3
   },
   "file_extension": ".py",
   "mimetype": "text/x-python",
   "name": "python",
   "nbconvert_exporter": "python",
   "pygments_lexer": "ipython3",
   "version": "3.11.5"
  }
 },
 "nbformat": 4,
 "nbformat_minor": 5
}
