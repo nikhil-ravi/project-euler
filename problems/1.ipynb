{
 "cells": [
  {
   "cell_type": "markdown",
   "id": "4e3d2450",
   "metadata": {},
   "source": [
    "\n",
    "---\n",
    "title: Multiples of $3$ or $5$\n",
    "problem: 1\n",
    "---\n"
   ]
  },
  {
   "cell_type": "markdown",
   "id": "ef1c13b0",
   "metadata": {},
   "source": [
    "Multiples of $3$ or $5$\n",
    "-----------------------\n",
    "\n",
    "\n",
    "If we list all the natural numbers below $10$ that are multiples of $3$ or $5$, we get $3, 5, 6$ and $9$. The sum of these multiples is $23$.\n",
    "\n",
    "\n",
    "Find the sum of all the multiples of $3$ or $5$ below $1000$.\n",
    "\n",
    "\n"
   ]
  },
  {
   "cell_type": "markdown",
   "id": "06d21cbc",
   "metadata": {},
   "source": [
    "## Solution\n",
    "\n",
    "We can use the fact that the sum of the first $n$ natural numbers is $\\frac{n(n+1)}{2}$ to solve this problem. \n",
    "\n",
    "The sum of all the multiples of $3$ below $1000$ is \n",
    "$$3 + 6 + 9 + \\cdots + 999 = 3(1 + 2 + 3 + \\cdots + 333) = 3 \\cdot \\frac{333 \\cdot 334}{2}.$$\n",
    "\n",
    "Similarly, the sum of all the multiples of $5$ below $1000$ is $5 \\cdot \\frac{199 \\cdot 200}{2}$. \n",
    "\n",
    "However, we have counted the multiples of $15$ twice, so we must subtract them once. The sum of all the multiples of $15$ below $1000$ is $15 \\cdot \\frac{66 \\cdot 67}{2}$. Thus, the answer is \n",
    "$$3 \\cdot \\frac{333 \\cdot 334}{2} + 5 \\cdot \\frac{199 \\cdot 200}{2} - 15 \\cdot \\frac{66 \\cdot 67}{2} = 233168.$$"
   ]
  }
 ],
 "metadata": {
  "language_info": {
   "name": "python"
  }
 },
 "nbformat": 4,
 "nbformat_minor": 5
}
